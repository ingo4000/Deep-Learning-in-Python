{
 "cells": [
  {
   "cell_type": "code",
   "execution_count": 4,
   "metadata": {},
   "outputs": [],
   "source": [
    "import numpy as np\n",
    "\n",
    "class Perceptron:\n",
    "    def __init__(self, learning_rate=0.1, max_iterations=100):\n",
    "        self.learning_rate = learning_rate\n",
    "        self.max_iterations = max_iterations\n",
    "\n",
    "    def fit(self, X, y):\n",
    "        n_features = X.shape[1]\n",
    "        self.weights = np.zeros(n_features)\n",
    "        self.bias = 0\n",
    "\n",
    "        for _ in range(self.max_iterations):\n",
    "            misclassified = []\n",
    "\n",
    "            for i, x in enumerate(X):\n",
    "                prediction = np.dot(x, self.weights) + self.bias\n",
    "\n",
    "                if prediction >= 0:\n",
    "                    predicted_label = 1\n",
    "                else:\n",
    "                    predicted_label = 0\n",
    "\n",
    "                if predicted_label != y[i]:\n",
    "                    misclassified.append(i)\n",
    "\n",
    "                    self.weights += self.learning_rate * y[i] * x\n",
    "                    self.bias += self.learning_rate * y[i]\n",
    "\n",
    "            if not misclassified:\n",
    "                break\n",
    "\n",
    "    def predict(self, X):\n",
    "        predictions = []\n",
    "\n",
    "        for x in X:\n",
    "            prediction = np.dot(x, self.weights) + self.bias\n",
    "\n",
    "            if prediction >= 0:\n",
    "                predicted_label = 1\n",
    "            else:\n",
    "                predicted_label = 0\n",
    "\n",
    "            predictions.append(predicted_label)\n",
    "\n",
    "        return predictions"
   ]
  },
  {
   "cell_type": "code",
   "execution_count": 5,
   "metadata": {},
   "outputs": [
    {
     "name": "stdout",
     "output_type": "stream",
     "text": [
      "0.3333333333333333\n"
     ]
    }
   ],
   "source": [
    "from sklearn.datasets import load_iris\n",
    "\n",
    "iris = load_iris()\n",
    "X = iris.data[:, :2]\n",
    "y = iris.target\n",
    "\n",
    "perceptron = Perceptron()\n",
    "perceptron.fit(X, y)\n",
    "\n",
    "predictions = perceptron.predict(X)\n",
    "print(np.mean(predictions == y))"
   ]
  }
 ],
 "metadata": {
  "kernelspec": {
   "display_name": ".venv",
   "language": "python",
   "name": "python3"
  },
  "language_info": {
   "codemirror_mode": {
    "name": "ipython",
    "version": 3
   },
   "file_extension": ".py",
   "mimetype": "text/x-python",
   "name": "python",
   "nbconvert_exporter": "python",
   "pygments_lexer": "ipython3",
   "version": "3.11.6"
  }
 },
 "nbformat": 4,
 "nbformat_minor": 2
}
